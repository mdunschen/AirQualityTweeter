{
 "cells": [
  {
   "cell_type": "code",
   "execution_count": 36,
   "metadata": {
    "collapsed": false
   },
   "outputs": [
    {
     "name": "stdout",
     "output_type": "stream",
     "text": [
      "Liverpool Speke Air\n",
      "23/01/2017, 17:00 (μgm⁻³)\n",
      "NO₂: 55 (1 Low)\n",
      "O₃: 4 (1 Low)\n",
      "PM₁₀₀: 57 (4 Moderate)\n",
      "PM₂₅: 52 (6 Moderate)\n",
      "SO₂: 10 (1 Low)\n",
      "https://goo.gl/ZpELjS\n",
      "138\n"
     ]
    }
   ],
   "source": [
    "# -*- coding: <utf-8> -*-\n",
    "import urllib\n",
    "import urllib.request as request\n",
    "import re\n",
    "import html\n",
    "import sys\n",
    "sys.path.append(\"C:\\\\Program Files\\\\Anaconda3\\\\envs\\\\tensorflow\\\\lib\\\\site-packages\")\n",
    "import tweepy\n",
    "\n",
    "urlstr = \"https://uk-air.defra.gov.uk/latest/currentlevels?view=site#L\"\n",
    "shorturlstr = \"https://goo.gl/ZpELjS\"\n",
    "\n",
    "\n",
    "def tweet(day, clock, reading):\n",
    "    consumer_key=\"\"\n",
    "    consumer_secret=\"\"\n",
    "    access_token=\"\"\n",
    "    access_token_secret=\"\"\n",
    "\n",
    "    auth = tweepy.OAuthHandler(consumer_key, consumer_secret)\n",
    "    auth.set_access_token(access_token, access_token_secret)\n",
    "    api = tweepy.API(auth)\n",
    "    print(api.me().name)\n",
    "    \n",
    "    status = [\"%s, %s (\\u03BCgm\\u207B\\u00B3)\" % (day, clock)]\n",
    "    skeys = list(reading.keys())\n",
    "    skeys.sort()\n",
    "    for k in skeys:\n",
    "        status.append(\"%s: %.0f %s\" % (k, reading[k][0], reading[k][1]))\n",
    "    status.append(\"%s\" % shorturlstr)\n",
    "    status = '\\n'.join(status)\n",
    "    print(status)\n",
    "    print(len(status))\n",
    "    api.update_status(status=status)\n",
    "\n",
    "sitename = b'Liverpool'\n",
    "\n",
    "f = request.urlopen(urlstr)\n",
    "\n",
    "r = f.read()\n",
    "g = re.search(b\".*<tr>.*(%s.*?)</tr>\" % sitename, r, re.DOTALL)\n",
    "#print(g.group(1))\n",
    "\n",
    "# split into <td></td>\n",
    "row = g.group(1)\n",
    "#print(\"row = %s\\n\" % row)\n",
    "\n",
    "# date and time\n",
    "dategroups = re.search(b\".*<td>(.*?)<br.*?>(.*?)</td>\", row, re.DOTALL)\n",
    "day = dategroups.group(1).decode(\"utf-8\")\n",
    "clock = dategroups.group(2).decode(\"utf-8\")\n",
    "\n",
    "\n",
    "# data\n",
    "cols = re.findall(b\"<span.*?>(.*?)</span>\", row, re.DOTALL)\n",
    "assert len(cols) == 5\n",
    "units = [\"O\\u2083\", \"NO\\u2082\", \"SO\\u2082\", \"PM\\u2082\\u2085\", \"PM\\u2081\\u2080\\u2080\"]\n",
    "datanums = []\n",
    "for v in cols:\n",
    "    if b' ' in v:\n",
    "        value = float(v[:v.index(b' ')])\n",
    "    else:\n",
    "        value = float(v[:v.index(b'&')])\n",
    "    nv = v.replace(b'&nbsp;', b' ')\n",
    "    ix = re.match(b\".*?(\\(.*?\\))\", nv).group(1)\n",
    "    datanums.append((value, ix.decode(\"utf-8\")))\n",
    "\n",
    "reading = dict(zip(units, datanums))\n",
    "tweet(day, clock, reading)\n",
    "\n"
   ]
  },
  {
   "cell_type": "code",
   "execution_count": 5,
   "metadata": {
    "collapsed": false,
    "scrolled": true
   },
   "outputs": [
    {
     "name": "stdout",
     "output_type": "stream",
     "text": [
      "['', 'd:\\\\development\\\\camkernel', 'C:\\\\Program Files\\\\Anaconda3\\\\python35.zip', 'C:\\\\Program Files\\\\Anaconda3\\\\DLLs', 'C:\\\\Program Files\\\\Anaconda3\\\\lib', 'C:\\\\Program Files\\\\Anaconda3', 'C:\\\\Program Files\\\\Anaconda3\\\\lib\\\\site-packages', 'C:\\\\Program Files\\\\Anaconda3\\\\lib\\\\site-packages\\\\Sphinx-1.4.6-py3.5.egg', 'C:\\\\Program Files\\\\Anaconda3\\\\lib\\\\site-packages\\\\win32', 'C:\\\\Program Files\\\\Anaconda3\\\\lib\\\\site-packages\\\\win32\\\\lib', 'C:\\\\Program Files\\\\Anaconda3\\\\lib\\\\site-packages\\\\Pythonwin', 'C:\\\\Program Files\\\\Anaconda3\\\\lib\\\\site-packages\\\\setuptools-27.2.0-py3.5.egg', 'C:\\\\Program Files\\\\Anaconda3\\\\lib\\\\site-packages\\\\IPython\\\\extensions', 'C:\\\\Users\\\\Dunschm\\\\.ipython', 'C:\\\\Program Files\\\\Anaconda3\\\\envs\\\\tensorflow\\\\lib\\\\site-packages', 'C:\\\\Program Files\\\\Anaconda3\\\\envs\\\\tensorflow\\\\lib\\\\site-packages', 'C:\\\\Program Files\\\\Anaconda3\\\\envs\\\\tensorflow\\\\lib\\\\site-packages', 'C:\\\\Program Files\\\\Anaconda3\\\\envs\\\\tensorflow\\\\lib\\\\site-packages']\n",
      "<module 'tweepy' from 'C:\\\\Program Files\\\\Anaconda3\\\\envs\\\\tensorflow\\\\lib\\\\site-packages\\\\tweepy\\\\__init__.py'>\n",
      "Martin Dunschen\n"
     ]
    }
   ],
   "source": [
    "import sys\n",
    "print(sys.path)\n",
    "sys.path.append(\"C:\\\\Program Files\\\\Anaconda3\\\\envs\\\\tensorflow\\\\lib\\\\site-packages\")\n",
    "import tweepy\n",
    "print(tweepy)\n",
    "\n",
    "consumer_key=\"\"\n",
    "consumer_secret=\"\"\n",
    "access_token=\"\"\n",
    "access_token_secret=\"\"\n",
    "\n",
    "auth = tweepy.OAuthHandler(consumer_key, consumer_secret)\n",
    "auth.set_access_token(access_token, access_token_secret)\n",
    "api = tweepy.API(auth)\n",
    "\n",
    "print(api.me().name)"
   ]
  },
  {
   "cell_type": "code",
   "execution_count": null,
   "metadata": {
    "collapsed": true
   },
   "outputs": [],
   "source": []
  }
 ],
 "metadata": {
  "anaconda-cloud": {},
  "kernelspec": {
   "display_name": "Python [conda root]",
   "language": "python",
   "name": "conda-root-py"
  },
  "language_info": {
   "codemirror_mode": {
    "name": "ipython",
    "version": 3
   },
   "file_extension": ".py",
   "mimetype": "text/x-python",
   "name": "python",
   "nbconvert_exporter": "python",
   "pygments_lexer": "ipython3",
   "version": "3.5.2"
  }
 },
 "nbformat": 4,
 "nbformat_minor": 1
}
